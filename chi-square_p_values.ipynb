{
 "cells": [
  {
   "cell_type": "code",
   "execution_count": 20,
   "id": "ced7e47f",
   "metadata": {},
   "outputs": [],
   "source": [
    "import numpy as np\n",
    "import matplotlib.pyplot as plt\n",
    "from scipy.stats import chi2\n",
    "# see https://gist.github.com/tungwaiyip/8987366"
   ]
  },
  {
   "cell_type": "code",
   "execution_count": 125,
   "id": "9e13d9ec",
   "metadata": {},
   "outputs": [
    {
     "name": "stdout",
     "output_type": "stream",
     "text": [
      "0.06883338952930085\n"
     ]
    },
    {
     "data": {
      "image/png": "[encoded data removed]",
      "text/plain": [
       "<Figure size 432x288 with 1 Axes>"
      ]
     },
     "metadata": {
      "needs_background": "light"
     },
     "output_type": "display_data"
    }
   ],
   "source": [
    "# we know that the sums of squares of variables from the standard normal \n",
    "# distribution are chi-squared distributed, so lets do some inference on\n",
    "# the lengths of our samples\n",
    "\n",
    "# 1. sample N samples from a standard normal with d dimensions:\n",
    "N = 100000\n",
    "d = 11\n",
    "X = np.random.randn(N, d)\n",
    "\n",
    "# 2. compute the 'lengths' (these are chi-square distributed) and the average length\n",
    "lengths = ((X**2).sum(1))\n",
    "av_length = lengths.mean()\n",
    "\n",
    "# 3. specify an example datapoint to do inference with\n",
    "x = lengths[0]\n",
    "x = 5\n",
    "\n",
    "# 4. compute the cdf and p-value under the null\n",
    "dist = chi2(d)\n",
    "tru_mean = dist.mean()\n",
    "\n",
    "# pick the right or left tail depending on magnitude\n",
    "# this is because we might be interested in classifying either very 'long lengths'\n",
    "# as outliers (which lie far from the mean), as well as very 'short lengths', which\n",
    "# lie close to the mean\n",
    "if x >= tru_mean: \n",
    "    p =  1 - chi2.cdf(x=x, df=d)\n",
    "else:\n",
    "    p =  chi2.cdf(x=x, df=d)\n",
    "    \n",
    "plt.hist(lengths, bins=30)\n",
    "plt.axvline(x, color='k', linestyle='dashed', linewidth=1)\n",
    "print(p)"
   ]
  },
  {
   "cell_type": "code",
   "execution_count": null,
   "id": "f6307f5a",
   "metadata": {},
   "outputs": [],
   "source": []
  },
  {
   "cell_type": "code",
   "execution_count": null,
   "id": "6305b87d",
   "metadata": {},
   "outputs": [],
   "source": []
  }
 ],
 "metadata": {
  "kernelspec": {
   "display_name": "Python 3",
   "language": "python",
   "name": "python3"
  },
  "language_info": {
   "codemirror_mode": {
    "name": "ipython",
    "version": 3
   },
   "file_extension": ".py",
   "mimetype": "text/x-python",
   "name": "python",
   "nbconvert_exporter": "python",
   "pygments_lexer": "ipython3",
   "version": "3.9.7"
  }
 },
 "nbformat": 4,
 "nbformat_minor": 5
}
